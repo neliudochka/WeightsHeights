{
  "nbformat": 4,
  "nbformat_minor": 0,
  "metadata": {
    "colab": {
      "provenance": [],
      "authorship_tag": "ABX9TyPGIGpTNmyBUNNgS764867y",
      "include_colab_link": true
    },
    "kernelspec": {
      "name": "python3",
      "display_name": "Python 3"
    },
    "language_info": {
      "name": "python"
    }
  },
  "cells": [
    {
      "cell_type": "markdown",
      "metadata": {
        "id": "view-in-github",
        "colab_type": "text"
      },
      "source": [
        "<a href=\"https://colab.research.google.com/github/neliudochka/WeightsHeights/blob/main/1lab_LiniearRegression.ipynb\" target=\"_parent\"><img src=\"https://colab.research.google.com/assets/colab-badge.svg\" alt=\"Open In Colab\"/></a>"
      ]
    },
    {
      "cell_type": "markdown",
      "source": [
        "# ML lab 1  \n",
        "# Linear regression  \n",
        "  \n",
        "## Preparatory stage:\n",
        "**1. Choose a data set and determine the input and output data.**  \n",
        "I chose [Heights and Weights Dataset](https://www.kaggle.com/datasets/burnoutminer/heights-and-weights-dataset/data).  \n",
        "It contains two columns: heoght and weight. So the model should be able to predict the height from the given weight, or vise versa.  \n",
        "\n",
        "**2. Determine input and output:**  \n",
        "Input: weight  \n",
        "Output: height  \n",
        "\n",
        "**3.  Visualize the dependencies between inputs and outputs**\n",
        "\n",
        "**4. Detect anomalies, incomplete samples in the data, etc**\n",
        "\n",
        "**5. To conduct correlational input of analyzes and outputs of the data set, to identify interdependent factors.**\n",
        "\n",
        "**6. Prepare data for further use.**\n",
        "\n",
        "**7. Divide the selected and filtered data set into training and test data sets\n",
        "part (70% for training, 30% for the test).**\n"
      ],
      "metadata": {
        "id": "DqHFJvo4Q9lZ"
      }
    }
  ]
}